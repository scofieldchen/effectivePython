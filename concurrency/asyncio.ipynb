{
 "cells": [
  {
   "cell_type": "markdown",
   "metadata": {},
   "source": [
    "## 1. 异步\n",
    "\n",
    "### 1.1 如何理解异步？\n",
    "\n",
    "异步的工作原理：启动任务后不等待其返回结果，直接进行下一个任务，等到任务完成后再处理结果，周而复始地进行“多任务”处理，通过节省等待CPU运行的时间，显著提升程序运行的效率。\n",
    "\n",
    "经典案例：来自于Miguel Grinberg的演讲\n",
    "\n",
    "考虑一场国际象棋的表演，1个象棋大师对弈24名业余选手，假设大师走一步棋需要5秒钟，业余选手需要55秒，一局持续30轮(双方都走一步算一局)，整场比赛的耗时是多少？\n",
    "\n",
    "两种比赛方式：\n",
    "\n",
    "第一：大师按顺序与24名选手进行对弈，总耗时 = (5 + 55) * 30 * 24 = 43200(秒)，即12个小时。\n",
    "\n",
    "第二：大师先和第一名选手对弈，走一步棋，但不等待对手回应，直接和第二名选手对弈，走一步棋，不等待回应，再和第三名选手对弈，直到跟第24名选手走完第一步棋，总共耗时120秒，然后回过来和第一名选手走第二步棋(第一名选手已经走出了第一步棋)，这样周而复始，整场比赛的总耗时 = 5 * 24 * 30 = 3600(秒)，即1个小时。\n",
    "\n",
    "第二种方式就是异步的核心思想，通过\"忽略\"业余选手的思考时间，大大减少了整场比赛的时间。在这个例子中，大师可理解为CPU，业余选手就是程序的任务，启动任务后不等待任务结束，直接进行下一个任务，周而复始，最终显著提升程序的效率。\n",
    "\n",
    "### 1.2 异步和多进程，多线程的区别？\n",
    "\n",
    "异步，多进程和多线程都属于并发(concurrent)编程的范畴，但底层运行机制不同，应用场景也不同。\n",
    "\n",
    "多进程(multiple process)：同时利用多个CPU进行运算，即“平行运算”，节省程序运行的时间。专门用于处理计算密集型任务。\n",
    "\n",
    "多线程(multi-threading): 1个CPU可以启动多条线程，每条线程分别执行任务，让程序看起来实现了平行运算，适用于IO密集型任务。由于GIL的存在，实现多线程的程序必须要谨慎设计“线程锁”，否则会出现意料之外的混乱结果。\n",
    "\n",
    "异步(async io): 在1个CPU，1条线程中实现多个协程任务(coroutine)，属于“合作型多任务处理”，通过忽略等待任务运行的时间而显著提升程序运行的效率。异步的实现不依赖于操作系统，也不受到GIL的限制，所有有很强的拓展性，能够实现高并发，特别适用于IO任务。"
   ]
  },
  {
   "cell_type": "markdown",
   "metadata": {},
   "source": [
    "## 2. asyncio库\n",
    "\n",
    "asyncio library, async/await关键词是实现异步编程的工具。\n",
    "\n",
    "asyncio提供哪些功能？\n",
    "\n",
    "如何使用async/await？\n",
    "\n",
    "async ==> 定义协程函数\n",
    "\n",
    "await ==> 暂停函数的运行，将协程的控制权\"交给\"事件环，等待运算结果"
   ]
  },
  {
   "cell_type": "code",
   "execution_count": 5,
   "metadata": {},
   "outputs": [],
   "source": [
    "import asyncio"
   ]
  },
  {
   "cell_type": "markdown",
   "metadata": {},
   "source": [
    "在jupyterlab中无法使用asyncio的事件环，asyncio.run()会报错，主要原因是jupyter(ipython)已经在底层运行了事件环。"
   ]
  },
  {
   "cell_type": "code",
   "execution_count": 6,
   "metadata": {},
   "outputs": [
    {
     "name": "stdout",
     "output_type": "stream",
     "text": [
      "start task 0\n",
      "start task 1\n",
      "task 0 completed\n",
      "task 1 completed\n"
     ]
    }
   ],
   "source": [
    "# async def --> 定义协程(coroutine)\n",
    "async def run_task(x):\n",
    "    print(\"start task %d\" % x)\n",
    "    await asyncio.sleep(1)  # 用sleep表示耗时任务\n",
    "    print(\"task %d completed\" % x)\n",
    "    \n",
    "async def main():\n",
    "    await asyncio.gather(run_task(0), run_task(1))\n",
    "\n",
    "# asyncio.run(main())  # 在终端运行的写法\n",
    "await main()  # 在jupyterlab运行的写法，直接利用ipython的事件环"
   ]
  },
  {
   "cell_type": "code",
   "execution_count": null,
   "metadata": {},
   "outputs": [],
   "source": []
  },
  {
   "cell_type": "code",
   "execution_count": null,
   "metadata": {},
   "outputs": [],
   "source": []
  }
 ],
 "metadata": {
  "kernelspec": {
   "display_name": "quant",
   "language": "python",
   "name": "quant"
  },
  "language_info": {
   "codemirror_mode": {
    "name": "ipython",
    "version": 3
   },
   "file_extension": ".py",
   "mimetype": "text/x-python",
   "name": "python",
   "nbconvert_exporter": "python",
   "pygments_lexer": "ipython3",
   "version": "3.7.3"
  }
 },
 "nbformat": 4,
 "nbformat_minor": 4
}
