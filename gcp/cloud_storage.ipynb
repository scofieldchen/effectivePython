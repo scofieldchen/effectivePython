{
 "cells": [
  {
   "cell_type": "markdown",
   "metadata": {},
   "source": [
    "# Google Cloud Storage\n",
    "\n",
    "Cloud Storage是对象存储数据库。\n",
    "\n",
    "#### 什么是对象？\n",
    "\n",
    "对象(object)是存储在GCS中的文件，GCS支持任意类型的文件，例如csv,excel,pdf,jpeg,mp4等等。\n",
    "\n",
    "对象包含两个部分：\n",
    "\n",
    "* 对象数据：即文件本身包含的数据\n",
    "* 对象元数据(metadata): 描述对象属性的键值对(key-value pairs)集合\n",
    "\n",
    "#### 如何命名对象？\n",
    "\n",
    "GCS存储分区中的对象是相互独立的，本身不存在任何层次关系。\n",
    "\n",
    "假设创建了两个对象，分别命名为'sh600000.csv'和'kline/daily/sh600001.csv'，尽管后者看起来像处于kline/daily子目录中，但两个文件其实处于同一个命名空间，不存在嵌套关系。\n",
    "\n",
    "用户仍然可以使用正斜杠分隔符'/'实现\"类似\"linux文件系统的嵌套目录结构。"
   ]
  },
  {
   "cell_type": "code",
   "execution_count": null,
   "metadata": {},
   "outputs": [],
   "source": [
    "from io import StringIO, BytesIO\n",
    "\n",
    "import gcsfs\n",
    "import pandas as pd\n",
    "from google.cloud import storage"
   ]
  },
  {
   "cell_type": "markdown",
   "metadata": {},
   "source": [
    "## 如何上传本地文件到GCS?"
   ]
  },
  {
   "cell_type": "markdown",
   "metadata": {},
   "source": [
    "使用google-cloud-storage实现。\n",
    "\n",
    "1. 创建Client对象，验证权限，建立连接\n",
    "2. 创建bucket对象\n",
    "3. 创建blob对象，调用blob.upload_from_filename\n",
    "\n",
    "底层实现原理：通过API调用实现。\n",
    "\n",
    "本地环境使用google-cloud-storage之前，要先设置环境变量'GOOGLE_APPLICATION_CREDENTIALS'"
   ]
  },
  {
   "cell_type": "code",
   "execution_count": null,
   "metadata": {},
   "outputs": [],
   "source": [
    "bucket_name = \"financial-data-storage\"\n",
    "blob_name = \"csv_file.csv\"\n",
    "local_file = \"/home/scofield/gcp/csv_file.csv\"  # 务必使用绝对路径\n",
    "\n",
    "client = storage.Client()\n",
    "bucket = client.bucket(bucket_name)\n",
    "blob = bucket.blob(blob_name)\n",
    "blob.upload_from_filename(local_file)"
   ]
  },
  {
   "cell_type": "markdown",
   "metadata": {},
   "source": [
    "使用gcsfs库实现。"
   ]
  },
  {
   "cell_type": "code",
   "execution_count": null,
   "metadata": {},
   "outputs": [],
   "source": [
    "# 创建GCS文件系统对象，建立连接\n",
    "fs = gcsfs.GCSFileSystem(\"aqueous-cortex-293313\")  # 项目ID并不是必须的\n",
    "\n",
    "# 调用put, put_file方法，前者允许上传多份文件，多线程？异步？\n",
    "local_file = \"/home/scofield/gcp/markdown_file.md\"\n",
    "remote_file = \"financial-data-storage/markdown_file.md\"  # <bucket_name>/<blob_name>\n",
    "fs.put_file(lpath=local_file, rpath=remote_file)"
   ]
  },
  {
   "cell_type": "markdown",
   "metadata": {},
   "source": [
    "## 如何将GCS文件下载到本地？"
   ]
  },
  {
   "cell_type": "markdown",
   "metadata": {},
   "source": [
    "使用google-cloud-storage实现。"
   ]
  },
  {
   "cell_type": "code",
   "execution_count": null,
   "metadata": {},
   "outputs": [],
   "source": [
    "bucket_name = \"financial-data-storage\"\n",
    "blob_name = \"image_file.png\"\n",
    "local_file = \"/home/scofield/gcp/image_file.png\"\n",
    "\n",
    "client = storage.Client()\n",
    "bucket = client.bucket(bucket_name)\n",
    "blob = bucket.blob(blob_name)\n",
    "\n",
    "# 如果源文件格式和本地文件格式不一致，不报错，但无法打开本地文件，因为无法解码\n",
    "blob.download_to_filename(local_file)"
   ]
  },
  {
   "cell_type": "markdown",
   "metadata": {},
   "source": [
    "用gcsfs实现。"
   ]
  },
  {
   "cell_type": "code",
   "execution_count": null,
   "metadata": {},
   "outputs": [],
   "source": [
    "# 创建GCS文件系统对象，建立连接\n",
    "fs = gcsfs.GCSFileSystem(\"aqueous-cortex-293313\")  # 项目ID并不是必须的\n",
    "\n",
    "# 调用get, get_file方法\n",
    "remote_file = \"financial-data-storage/markdown_file.md\"  # <bucket_name>/<blob_name>\n",
    "local_file = \"/home/scofield/gcp/markdown_file.md\"\n",
    "fs.get_file(rpath=remote_file, lpath=local_file)"
   ]
  },
  {
   "cell_type": "markdown",
   "metadata": {},
   "source": [
    "## 如何将数据框上传到GCS, 用csv格式存储？"
   ]
  },
  {
   "cell_type": "markdown",
   "metadata": {},
   "source": [
    "最简单的方法，调用df.to_csv('gcs://bucket_name/blob_name').\n",
    "\n",
    "从pandas 0.24版本开始，pandas支持与GCS进行数据交互，底层通过gcsfs库实现。"
   ]
  },
  {
   "cell_type": "code",
   "execution_count": null,
   "metadata": {},
   "outputs": [],
   "source": [
    "df = pd.DataFrame({\"a\": [1, 2, 3], \"b\": [4, 5, 6]})\n",
    "df.to_csv(\"gcs://financial-data-storage/test_df.csv\", index=False)"
   ]
  },
  {
   "cell_type": "raw",
   "metadata": {},
   "source": [
    "如何用google-cloud-storage实现？\n",
    "\n",
    "gcs库不支持直接操作DataFrame，但blob对象提供一个方法：upload_from_file(file_obj)，将一个类文件对象上传到GCS，所以可以先把数据框的内容存储到类文件对象，再上传。"
   ]
  },
  {
   "cell_type": "code",
   "execution_count": null,
   "metadata": {},
   "outputs": [],
   "source": [
    "df = pd.DataFrame({\"a\": [1, 2, 3], \"b\": [4, 5, 6]})\n",
    "\n",
    "bucket_name = \"financial-data-storage\"\n",
    "blob_name = \"test_df.csv\"\n",
    "\n",
    "client = storage.Client()\n",
    "bucket = client.bucket(bucket_name)\n",
    "blob = bucket.blob(blob_name)\n",
    "\n",
    "csv_file_obj = StringIO()\n",
    "df.to_csv(csv_file_obj, index=False)\n",
    "csv_file_obj.seek(0)\n",
    "\n",
    "blob.upload_from_file(csv_file_obj)"
   ]
  },
  {
   "cell_type": "markdown",
   "metadata": {},
   "source": [
    "## 如何将GCS的csv加载到数据框？"
   ]
  },
  {
   "cell_type": "markdown",
   "metadata": {},
   "source": [
    "与上传类似，最简单的方法是调用pd.read_csv('gcs://bucket_name/blob_name')"
   ]
  },
  {
   "cell_type": "code",
   "execution_count": null,
   "metadata": {},
   "outputs": [],
   "source": [
    "df = pd.read_csv(\"gcs://financial-data-storage/test_df.csv\")\n",
    "df"
   ]
  },
  {
   "cell_type": "markdown",
   "metadata": {},
   "source": [
    "如何用google-cloud-storage实现？\n",
    "\n",
    "1. 创建类文件对象file_obj，作为数据交互媒介\n",
    "2. 创建blob对象，调用blob.download_to_file(file_obj)\n",
    "3. 调用pd.read_csv(file_obj)，生成数据框"
   ]
  },
  {
   "cell_type": "code",
   "execution_count": null,
   "metadata": {},
   "outputs": [],
   "source": [
    "client = storage.Client()\n",
    "bucket = client.bucket(\"financial-data-storage\")\n",
    "blob = bucket.blob(\"test_df.csv\")\n",
    "\n",
    "# 由于download_to_file下载二进制数据，所以需要使用BytesIO而不是StringIO\n",
    "file_obj = BytesIO()\n",
    "blob.download_to_file(file_obj)\n",
    "file_obj.seek(0)\n",
    "\n",
    "df = pd.read_csv(file_obj)\n",
    "df"
   ]
  },
  {
   "cell_type": "markdown",
   "metadata": {},
   "source": [
    "## 如何将数据框上传到GCS，用parquet存储？"
   ]
  },
  {
   "cell_type": "markdown",
   "metadata": {},
   "source": [
    "调用df.to_parquet, pd.read_parquet接口。"
   ]
  },
  {
   "cell_type": "code",
   "execution_count": null,
   "metadata": {},
   "outputs": [],
   "source": [
    "df = pd.DataFrame({\"a\": [1, 2, 3], \"b\": [4, 5, 6]})\n",
    "df.to_parquet(\"gcs://financial-data-storage/test_df.parquet\", index=False)"
   ]
  },
  {
   "cell_type": "code",
   "execution_count": null,
   "metadata": {},
   "outputs": [],
   "source": [
    "df = pd.read_parquet(\"gcs://financial-data-storage/test_df.parquet\")\n",
    "df"
   ]
  },
  {
   "cell_type": "markdown",
   "metadata": {},
   "source": [
    "如何用google-cloud-storage实现？"
   ]
  },
  {
   "cell_type": "code",
   "execution_count": null,
   "metadata": {},
   "outputs": [],
   "source": [
    "df = pd.DataFrame({\"a\": [1, 2, 3], \"b\": [4, 5, 6]})\n",
    "\n",
    "bucket_name = \"financial-data-storage\"\n",
    "blob_name = \"test_df.parquet\"\n",
    "\n",
    "client = storage.Client()\n",
    "bucket = client.bucket(bucket_name)\n",
    "blob = bucket.blob(blob_name)\n",
    "\n",
    "file_obj = BytesIO()\n",
    "df.to_parquet(file_obj, index=False)\n",
    "file_obj.seek(0)\n",
    "\n",
    "# content_type默认值是'application/octet-stream'，GCS会根据上传对象的内容和后缀名\n",
    "# 自动推断并以正确的格式存储\n",
    "# blob.upload_from_file(file_obj, content_type=\"application/octet-stream\")\n",
    "blob.upload_from_file(file_obj)"
   ]
  },
  {
   "cell_type": "code",
   "execution_count": null,
   "metadata": {},
   "outputs": [],
   "source": []
  },
  {
   "cell_type": "code",
   "execution_count": null,
   "metadata": {},
   "outputs": [],
   "source": []
  }
 ],
 "metadata": {
  "environment": {
   "name": "common-cpu.m58",
   "type": "gcloud",
   "uri": "gcr.io/deeplearning-platform-release/base-cpu:m58"
  },
  "kernelspec": {
   "display_name": "quant",
   "language": "python",
   "name": "quant"
  },
  "language_info": {
   "codemirror_mode": {
    "name": "ipython",
    "version": 3
   },
   "file_extension": ".py",
   "mimetype": "text/x-python",
   "name": "python",
   "nbconvert_exporter": "python",
   "pygments_lexer": "ipython3",
   "version": "3.8.5"
  }
 },
 "nbformat": 4,
 "nbformat_minor": 4
}
